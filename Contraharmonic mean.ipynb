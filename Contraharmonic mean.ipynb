{
 "cells": [
  {
   "cell_type": "code",
   "execution_count": 1,
   "id": "3641a792",
   "metadata": {},
   "outputs": [],
   "source": [
    "def contraharmonic_mean(numbers, order):\n",
    "    numerator = sum(num**(order+1) for num in numbers)\n",
    "    denominator = sum(num**order for num in numbers)\n",
    "    \n",
    "    if denominator != 0:\n",
    "        result = numerator / denominator\n",
    "        return result\n",
    "    else:\n",
    "        return \"Denominator is zero, division not possible\""
   ]
  },
  {
   "cell_type": "code",
   "execution_count": 2,
   "id": "a414ba29",
   "metadata": {},
   "outputs": [
    {
     "name": "stdout",
     "output_type": "stream",
     "text": [
      "Enter numbers separated by spaces: 3 7 9 7 2 6\n"
     ]
    }
   ],
   "source": [
    "num_list = input(\"Enter numbers separated by spaces: \").split()\n",
    "data = [float(num) for num in num_list]"
   ]
  },
  {
   "cell_type": "code",
   "execution_count": 3,
   "id": "cb4621b3",
   "metadata": {},
   "outputs": [
    {
     "name": "stdout",
     "output_type": "stream",
     "text": [
      "Enter the order value: 2\n"
     ]
    }
   ],
   "source": [
    "order_value = int(input(\"Enter the order value: \"))"
   ]
  },
  {
   "cell_type": "code",
   "execution_count": 4,
   "id": "6f8b775a",
   "metadata": {},
   "outputs": [
    {
     "name": "stdout",
     "output_type": "stream",
     "text": [
      "The 2-order contraharmonic mean is: 7.307017543859649\n"
     ]
    }
   ],
   "source": [
    "result = contraharmonic_mean(data, order_value)\n",
    "print(f\"The {order_value}-order contraharmonic mean is: {result}\")"
   ]
  },
  {
   "cell_type": "code",
   "execution_count": null,
   "id": "647e03dc",
   "metadata": {},
   "outputs": [],
   "source": []
  }
 ],
 "metadata": {
  "kernelspec": {
   "display_name": "Python 3 (ipykernel)",
   "language": "python",
   "name": "python3"
  },
  "language_info": {
   "codemirror_mode": {
    "name": "ipython",
    "version": 3
   },
   "file_extension": ".py",
   "mimetype": "text/x-python",
   "name": "python",
   "nbconvert_exporter": "python",
   "pygments_lexer": "ipython3",
   "version": "3.11.5"
  }
 },
 "nbformat": 4,
 "nbformat_minor": 5
}
